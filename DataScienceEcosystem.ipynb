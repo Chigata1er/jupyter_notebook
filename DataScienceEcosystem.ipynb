{
 "cells": [
  {
   "cell_type": "markdown",
   "id": "7f5a0868-ac7c-4773-a91a-80730e264a97",
   "metadata": {},
   "source": [
    "# Data Science Tools and Ecosystem"
   ]
  },
  {
   "cell_type": "markdown",
   "id": "6c7417e8-5a84-4aec-af93-c11412036799",
   "metadata": {
    "tags": []
   },
   "source": [
    "## In this notebook, Data Science Tools and Ecosystem are summarized.\n"
   ]
  },
  {
   "cell_type": "markdown",
   "id": "1d921805-c4eb-4543-8809-22ba6f2ad508",
   "metadata": {},
   "source": [
    "### Some of the popular languages that Data Scientists use are:\n",
    "\n",
    "1. python\n",
    "2. R\n",
    "3. julia\n"
   ]
  },
  {
   "cell_type": "markdown",
   "id": "f0b35fee-e0dc-4748-9ebf-0fec8dbd7af5",
   "metadata": {
    "tags": []
   },
   "source": [
    "### Some of the commonly used libraries used by Data Scientists include:\n",
    "1. Pandas\n",
    "2. sk-learn\n",
    "3. numpy"
   ]
  },
  {
   "cell_type": "markdown",
   "id": "486ae128-5802-41d2-8c91-7009628e34b3",
   "metadata": {},
   "source": [
    "| Data Science Tools |\n",
    "|---------------------|\n",
    "| jupyter notebook |\n",
    "| visual studio |\n",
    "| R studio |"
   ]
  },
  {
   "cell_type": "markdown",
   "id": "641fded6-6a4b-4163-b66e-f1db3a978023",
   "metadata": {
    "tags": []
   },
   "source": [
    "### Below are a few examples of evaluating arithmetic expressions in Python.\n"
   ]
  },
  {
   "cell_type": "code",
   "execution_count": 10,
   "id": "82a6d8ed-296f-4fe9-aa4f-0f2b666244ff",
   "metadata": {
    "tags": []
   },
   "outputs": [
    {
     "data": {
      "text/plain": [
       "17"
      ]
     },
     "execution_count": 10,
     "metadata": {},
     "output_type": "execute_result"
    }
   ],
   "source": [
    "# This a simple arithmetic expression to mutiply then add integers.\n",
    "(3*4)+5\n"
   ]
  },
  {
   "cell_type": "code",
   "execution_count": 12,
   "id": "224a08aa-1f09-4225-96bd-b201246698e9",
   "metadata": {
    "tags": []
   },
   "outputs": [
    {
     "name": "stdout",
     "output_type": "stream",
     "text": [
      " the conversion of 200 minutes is : 3  hours and 20 minutes\n"
     ]
    }
   ],
   "source": [
    "# This will convert 200 minutes to hours by diving by 60.\n",
    "minutes_to_converte = 200\n",
    "hour = 200 // 60\n",
    "min = minutes_to_converte - hour*60\n",
    "\n",
    "print(\" the conversion of 200 minutes is :\", hour,\" hours and\", min, \"minutes\")"
   ]
  },
  {
   "cell_type": "markdown",
   "id": "c7977712-522a-4be9-91fb-c797b9f91500",
   "metadata": {},
   "source": [
    "### Objectives\n",
    "- python\n",
    "- julia\n",
    "- R\n",
    "- C++\n",
    "- SQL\n",
    "- java"
   ]
  },
  {
   "cell_type": "markdown",
   "id": "506aa003-a92c-42bf-b23d-2c3905aa7b81",
   "metadata": {},
   "source": [
    "## Author : YEO Chigata Ibrahim"
   ]
  }
 ],
 "metadata": {
  "kernelspec": {
   "display_name": "Python",
   "language": "python",
   "name": "conda-env-python-py"
  },
  "language_info": {
   "codemirror_mode": {
    "name": "ipython",
    "version": 3
   },
   "file_extension": ".py",
   "mimetype": "text/x-python",
   "name": "python",
   "nbconvert_exporter": "python",
   "pygments_lexer": "ipython3",
   "version": "3.7.12"
  }
 },
 "nbformat": 4,
 "nbformat_minor": 5
}
